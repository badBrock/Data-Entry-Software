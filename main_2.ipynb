{
 "cells": [
  {
   "cell_type": "code",
   "execution_count": 7,
   "id": "780ca521",
   "metadata": {},
   "outputs": [
    {
     "name": "stdout",
     "output_type": "stream",
     "text": [
      "URL: https://lzqdcimuvxhhedufnioy.supabase.co\n",
      "KEY: eyJhb...\n"
     ]
    }
   ],
   "source": [
    "import os\n",
    "from dotenv import load_dotenv\n",
    "from supabase import create_client, Client\n",
    "\n",
    "# Load from .env\n",
    "load_dotenv()\n",
    "\n",
    "# Now get environment variables\n",
    "url: str = os.environ.get(\"SUPABASE_URL\")\n",
    "key: str = os.environ.get(\"SUPABASE_KEY\")\n",
    "\n",
    "# Validate loading\n",
    "print(\"URL:\", url)\n",
    "print(\"KEY:\", key[:5] + \"...\" if key else \"None\")\n",
    "\n",
    "# Create client\n",
    "supabase: Client = create_client(url, key)"
   ]
  },
  {
   "cell_type": "code",
   "execution_count": 8,
   "id": "0a00d330",
   "metadata": {},
   "outputs": [],
   "source": [
    "response = (\n",
    "    supabase.table(\"Mock Data\")\n",
    "    .select(\"*\")\n",
    "    .execute()\n",
    ")"
   ]
  },
  {
   "cell_type": "code",
   "execution_count": 9,
   "id": "88b5d421",
   "metadata": {},
   "outputs": [],
   "source": [
    "from datetime import datetime\n",
    "\n",
    "response = (\n",
    "    supabase.table(\"Mock Data\")\n",
    "    .insert({\n",
    "        \"id\": 1,\n",
    "        \"blood pressure\": 120.0,                   # Example systolic BP\n",
    "        \"temperature\": 98.6,  \n",
    "        \"MMSE\": 28.0  ,# Fahrenheit\n",
    "        \"BMI Weight\": 23.5                    # BMI\n",
    "                                    # MMSE score out of 30\n",
    "    })\n",
    "    .execute()\n",
    ")\n"
   ]
  },
  {
   "cell_type": "code",
   "execution_count": null,
   "id": "039a373d",
   "metadata": {},
   "outputs": [],
   "source": []
  }
 ],
 "metadata": {
  "kernelspec": {
   "display_name": "env",
   "language": "python",
   "name": "python3"
  },
  "language_info": {
   "codemirror_mode": {
    "name": "ipython",
    "version": 3
   },
   "file_extension": ".py",
   "mimetype": "text/x-python",
   "name": "python",
   "nbconvert_exporter": "python",
   "pygments_lexer": "ipython3",
   "version": "3.10.0"
  }
 },
 "nbformat": 4,
 "nbformat_minor": 5
}
